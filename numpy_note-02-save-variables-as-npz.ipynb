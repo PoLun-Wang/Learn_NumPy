{
 "cells": [
  {
   "cell_type": "code",
   "execution_count": 2,
   "metadata": {},
   "outputs": [],
   "source": [
    "import numpy as np\n",
    "import time as t"
   ]
  },
  {
   "cell_type": "markdown",
   "metadata": {},
   "source": [
    "# Save variables using Numpy\n",
    "- We will introduce the savez() and savez_compressed() of Numpy to save the variables in python.\n",
    "\n",
    "## numpy.savez(\"file name\", var1=var1, var2=var2, ...)\n",
    "- Save several variables in a **uncompressed** .npz file.\n",
    "- Variables' name:\n",
    "    - You can assign a new variable name for the variable you attempt to save. Of course, you can use the original variable's name as well.\n",
    "    - numpy.savez(\"file name\", New name = The variable you want to save)"
   ]
  },
  {
   "cell_type": "code",
   "execution_count": 6,
   "metadata": {},
   "outputs": [
    {
     "name": "stdout",
     "output_type": "stream",
     "text": [
      "Time cost: 0.07606315612792969 sec.\n"
     ]
    }
   ],
   "source": [
    "arr1 = np.arange(1, 101).reshape(10, 10)\n",
    "arr2 = np.arange(1, 10001).reshape(100, 100)\n",
    "arr3 = np.arange(1, 1000001).reshape(1000, 1000)\n",
    "\n",
    "start_time = t.time()\n",
    "np.savez('example_savez.npz', my_arr1=arr1, my_arr2=arr2, my_arr3=arr3)\n",
    "end_time = t.time()\n",
    "print('Time cost: {0} sec.'.format(end_time - start_time))"
   ]
  },
  {
   "cell_type": "markdown",
   "metadata": {},
   "source": [
    "## numpy.savez_compressed(\"file name\", var1=var1, var2=var2, ...)\n",
    "- Save sereral variables in a **compressed** .npz file."
   ]
  },
  {
   "cell_type": "code",
   "execution_count": 8,
   "metadata": {},
   "outputs": [
    {
     "name": "stdout",
     "output_type": "stream",
     "text": [
      "Time cost: 0.62156081199646 sec.\n"
     ]
    }
   ],
   "source": [
    "arr4 = np.arange(1, 101).reshape(10, 10)\n",
    "arr5 = np.arange(1, 10001).reshape(100, 100)\n",
    "arr6 = np.arange(1, 1000001).reshape(1000, 1000)\n",
    "\n",
    "start_time = t.time()\n",
    "np.savez_compressed('example_savez_compressed.npz', my_arr4=arr4, my_arr5=arr5, my_arr6=arr6)\n",
    "end_time = t.time()\n",
    "print('Time cost: {0} sec.'.format(end_time - start_time))"
   ]
  },
  {
   "cell_type": "markdown",
   "metadata": {},
   "source": [
    "## numpy.load(\"file name\")\n",
    "- Load **.npz** file to your program."
   ]
  },
  {
   "cell_type": "code",
   "execution_count": 9,
   "metadata": {},
   "outputs": [
    {
     "name": "stdout",
     "output_type": "stream",
     "text": [
      "Shape of new_arr4: (10, 10)\n",
      "[[  1   2   3   4   5   6   7   8   9  10]\n",
      " [ 11  12  13  14  15  16  17  18  19  20]\n",
      " [ 21  22  23  24  25  26  27  28  29  30]\n",
      " [ 31  32  33  34  35  36  37  38  39  40]\n",
      " [ 41  42  43  44  45  46  47  48  49  50]\n",
      " [ 51  52  53  54  55  56  57  58  59  60]\n",
      " [ 61  62  63  64  65  66  67  68  69  70]\n",
      " [ 71  72  73  74  75  76  77  78  79  80]\n",
      " [ 81  82  83  84  85  86  87  88  89  90]\n",
      " [ 91  92  93  94  95  96  97  98  99 100]]\n",
      "Shape of new_arr5: (100, 100)\n"
     ]
    }
   ],
   "source": [
    "npz_file = np.load('example_savez_compressed.npz')\n",
    "new_arr4, new_arr5 = npz_file['my_arr4'], npz_file['my_arr5']\n",
    "\n",
    "print('Shape of new_arr4: {0}'.format(new_arr4.shape))\n",
    "print(new_arr4)\n",
    "print('Shape of new_arr5: {0}'.format(new_arr5.shape))\n"
   ]
  }
 ],
 "metadata": {
  "kernelspec": {
   "display_name": "Coursera",
   "language": "python",
   "name": "coursera"
  },
  "language_info": {
   "codemirror_mode": {
    "name": "ipython",
    "version": 3
   },
   "file_extension": ".py",
   "mimetype": "text/x-python",
   "name": "python",
   "nbconvert_exporter": "python",
   "pygments_lexer": "ipython3",
   "version": "3.5.6"
  }
 },
 "nbformat": 4,
 "nbformat_minor": 2
}
