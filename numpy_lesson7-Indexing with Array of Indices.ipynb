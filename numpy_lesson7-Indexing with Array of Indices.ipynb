{
 "cells": [
  {
   "cell_type": "code",
   "execution_count": 2,
   "metadata": {},
   "outputs": [],
   "source": [
    "import numpy as np"
   ]
  },
  {
   "cell_type": "code",
   "execution_count": 5,
   "metadata": {},
   "outputs": [
    {
     "name": "stdout",
     "output_type": "stream",
     "text": [
      "a=>[ 0  1  4  9 16 25 36 49 64 81]\n",
      "i=> [1 3 5 7 9]\n",
      "a[i]=> [ 1  9 25 49 81]\n",
      "\n",
      "a=>[ 0  1  4  9 16 25 36 49 64 81]\n",
      "j=>\n",
      "[[3 4]\n",
      " [5 6]]\n",
      "a[j]=>\n",
      "[[ 9 16]\n",
      " [25 36]]\n",
      "\n",
      "Gets values by 2 arrays from a matrix.\n",
      "x=>\n",
      "[[ 0  1  2  3  4  5  6]\n",
      " [ 7  8  9 10 11 12 13]\n",
      " [14 15 16 17 18 19 20]\n",
      " [21 22 23 24 25 26 27]]\n",
      "a=>\n",
      "[[0 1]\n",
      " [2 3]]\n",
      "b=>\n",
      "[[5 5]\n",
      " [6 6]]\n",
      "x[a,b]=>\n",
      "[[ 5 12]\n",
      " [20 27]]\n"
     ]
    }
   ],
   "source": [
    "##Indexing with Arrays of Indices\n",
    "a = np.arange(10)**2\n",
    "print('a=>{0}'.format(a))\n",
    "i = np.array([1, 3, 5, 7, 9])\n",
    "print('i=> {0}'.format(i))\n",
    "print('a[i]=> {1}'.format(i, a[i]))\n",
    "\n",
    "print(\"\")\n",
    "a = np.arange(10)**2\n",
    "j = np.array( [[3, 4], [5, 6]] )\n",
    "print('a=>{0}'.format(a))\n",
    "print('j=>\\n{0}'.format(j))\n",
    "# Transforms the shape of a into j, and gets values.\n",
    "# 把a的形狀改成像j的形狀, 而且取得相對應index的值.\n",
    "print('a[j]=>\\n{0}'.format(a[j]))\n",
    "\n",
    "print()\n",
    "print(\"Gets values by 2 arrays from a matrix.\")\n",
    "x = np.arange(28).reshape(4, 7)\n",
    "a = np.array([[0, 1], [2, 3]])\n",
    "b = np.array([[5, 5], [6, 6]])\n",
    "print(\"x=>\\n{0}\".format(x))\n",
    "print(\"a=>\\n{0}\".format(a))\n",
    "print(\"b=>\\n{0}\".format(b))\n",
    "# Array \"a\" will indicate the indices of row of the matrix \"x\".\n",
    "# Array \"b\" will indicate the indices of column of the matrix \"x\".\n",
    "# 陣列a將會指出矩陣x裡的row\n",
    "# 陣列b將會指出矩陣x裡的column\n",
    "print(\"x[a,b]=>\\n{0}\".format(x[a,b]))"
   ]
  },
  {
   "cell_type": "code",
   "execution_count": 13,
   "metadata": {},
   "outputs": [
    {
     "name": "stdout",
     "output_type": "stream",
     "text": [
      "x=>\n",
      "[[1 2 3]\n",
      " [6 5 5]\n",
      " [7 8 9]]\n",
      "\n",
      "x.argmax(axis=0)=>[2 2 2]\n",
      "np.argmax(x, axis=1)=>[2 0 2]\n",
      "\n",
      "x=>\n",
      "[[1 2 3]\n",
      " [6 5 5]\n",
      " [7 8 9]]\n",
      "Max in each colunms:\n",
      "The MAX value of column-0=> 7\n",
      "The MAX value of column-1=> 8\n",
      "The MAX value of column-2=> 9\n",
      "\n",
      "x=>\n",
      "[[1 2 3]\n",
      " [6 5 5]\n",
      " [7 8 9]]\n",
      "np.sum(x, axis=0)=>[14 15 17]\n"
     ]
    }
   ],
   "source": [
    "x = np.array([[1, 2, 3], [6, 5, 5], [7, 8, 9]])\n",
    "print(\"x=>\\n{0}\".format(x))\n",
    "print()\n",
    "# Find out the indices of max value along axis-0.\n",
    "# In this case, axis-0 means each rows in a 2 dimensional matrix.\n",
    "# 同column位置之中 數值最大位置的的row索引值.\n",
    "print(\"x.argmax(axis=0)=>{0}\".format(x.argmax(axis=0)))\n",
    "# Find out the indices of max value along axis-1.\n",
    "# In this case, axis-1 means each columns in a 2 dimensional matrix.\n",
    "# 同row位置之中 數值最大位置的的column的索引.\n",
    "print(\"np.argmax(x, axis=1)=>{0}\".format(np.argmax(x, axis=1)))\n",
    "\n",
    "\n",
    "print()\n",
    "# Find out the max values from each colunm of a 2 dimensional matrix.\n",
    "# 印出2維度陣列中, 各row對應至每一column的最大的值\n",
    "print(\"x=>\\n{0}\".format(x))\n",
    "print(\"Max in each colunms:\")\n",
    "for idx in range(x.shape[1]):\n",
    "    print( \"The MAX value of column-{0}=> {1}\".format(idx, x[x.argmax(axis=0)[idx], idx]) )\n",
    "\n",
    "print()\n",
    "# Summarize the values by each corresponding columns of a 2 dimensional matrix.\n",
    "# 加總每一個相對應欄位的數值\n",
    "print(\"x=>\\n{0}\".format(x))\n",
    "print(\"np.sum(x, axis=0)=>{0}\".format(np.sum(x, axis=0)))"
   ]
  }
 ],
 "metadata": {
  "kernelspec": {
   "display_name": "Python 3",
   "language": "python",
   "name": "python3"
  },
  "language_info": {
   "codemirror_mode": {
    "name": "ipython",
    "version": 3
   },
   "file_extension": ".py",
   "mimetype": "text/x-python",
   "name": "python",
   "nbconvert_exporter": "python",
   "pygments_lexer": "ipython3",
   "version": "3.5.5"
  }
 },
 "nbformat": 4,
 "nbformat_minor": 2
}
