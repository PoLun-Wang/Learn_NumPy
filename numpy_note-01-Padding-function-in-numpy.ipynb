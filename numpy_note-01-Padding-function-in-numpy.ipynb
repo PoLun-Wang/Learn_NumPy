{
 "cells": [
  {
   "cell_type": "code",
   "execution_count": 1,
   "metadata": {},
   "outputs": [],
   "source": [
    "import numpy as np"
   ]
  },
  {
   "cell_type": "markdown",
   "metadata": {},
   "source": [
    "# The padding function in Numpy\n",
    "- We want to show this function how to be utilized on the padding operations of convolutional neural networks.\n",
    "\n",
    "## No channel\n",
    "- Example for no channel with 2-dimensional matrix."
   ]
  },
  {
   "cell_type": "code",
   "execution_count": 2,
   "metadata": {},
   "outputs": [
    {
     "name": "stdout",
     "output_type": "stream",
     "text": [
      "(Original) 2d feature map=>\n",
      "[[1 2 3]\n",
      " [4 5 6]\n",
      " [7 8 9]]\n",
      "\n",
      "(Padding)  2d feature map=>\n",
      "[[0 0 0 0 0]\n",
      " [0 1 2 3 0]\n",
      " [0 4 5 6 0]\n",
      " [0 7 8 9 0]\n",
      " [0 0 0 0 0]]\n"
     ]
    }
   ],
   "source": [
    "a_2d = np.arange(1,10).reshape(3,3)\n",
    "print(\"(Original) 2d feature map=>\\n{0}\\n\".format(a_2d))\n",
    "\n",
    "a_2d = np.pad(array=a_2d, pad_width=((1,1), (1,1)), mode='constant', constant_values=0)\n",
    "print(\"(Padding)  2d feature map=>\\n{0}\".format(a_2d))"
   ]
  },
  {
   "cell_type": "markdown",
   "metadata": {},
   "source": [
    "## Channel first\n",
    "- Example for a 1-channel feature map with channel first setting."
   ]
  },
  {
   "cell_type": "code",
   "execution_count": 3,
   "metadata": {},
   "outputs": [
    {
     "name": "stdout",
     "output_type": "stream",
     "text": [
      "(Original) 3d feature map=>\n",
      "[[[1 2 3]\n",
      "  [4 5 6]\n",
      "  [7 8 9]]]\n",
      "\n",
      "(Padding)  3d feature map=>\n",
      "[[[0 0 0 0 0]\n",
      "  [0 1 2 3 0]\n",
      "  [0 4 5 6 0]\n",
      "  [0 7 8 9 0]\n",
      "  [0 0 0 0 0]]]\n"
     ]
    }
   ],
   "source": [
    "a_3d = np.arange(1,10).reshape(1,3,3)\n",
    "print(\"(Original) 3d feature map=>\\n{0}\\n\".format(a_3d))\n",
    "\n",
    "a_3d = np.pad(array=a_3d, pad_width=((0,0),(1,1),(1,1)), mode='constant', constant_values=0)\n",
    "print(\"(Padding)  3d feature map=>\\n{0}\".format(a_3d))"
   ]
  },
  {
   "cell_type": "markdown",
   "metadata": {},
   "source": [
    "- Example for a 2-channel feature map with **channel first** setting."
   ]
  },
  {
   "cell_type": "code",
   "execution_count": 4,
   "metadata": {},
   "outputs": [
    {
     "name": "stdout",
     "output_type": "stream",
     "text": [
      "(Original) 3d feature map=>\n",
      "[[[ 1  2  3]\n",
      "  [ 4  5  6]\n",
      "  [ 7  8  9]]\n",
      "\n",
      " [[10 11 12]\n",
      "  [13 14 15]\n",
      "  [16 17 18]]]\n",
      "\n",
      "(Padding)  3d feature map=>\n",
      "[[[ 0  0  0  0  0]\n",
      "  [ 0  1  2  3  0]\n",
      "  [ 0  4  5  6  0]\n",
      "  [ 0  7  8  9  0]\n",
      "  [ 0  0  0  0  0]]\n",
      "\n",
      " [[ 0  0  0  0  0]\n",
      "  [ 0 10 11 12  0]\n",
      "  [ 0 13 14 15  0]\n",
      "  [ 0 16 17 18  0]\n",
      "  [ 0  0  0  0  0]]]\n"
     ]
    }
   ],
   "source": [
    "a_3d = np.arange(1,19).reshape(2,3,3)\n",
    "print(\"(Original) 3d feature map=>\\n{0}\\n\".format(a_3d))\n",
    "\n",
    "a_3d = np.pad(array=a_3d, pad_width=((0,0),(1,1),(1,1)), mode='constant', constant_values=0)\n",
    "print(\"(Padding)  3d feature map=>\\n{0}\".format(a_3d))"
   ]
  },
  {
   "cell_type": "markdown",
   "metadata": {},
   "source": [
    "- Example for a 3-channel feature map with **channel first** setting."
   ]
  },
  {
   "cell_type": "code",
   "execution_count": 5,
   "metadata": {},
   "outputs": [
    {
     "name": "stdout",
     "output_type": "stream",
     "text": [
      "(Original) 3d feature map=>\n",
      "[[[ 1  2  3]\n",
      "  [ 4  5  6]\n",
      "  [ 7  8  9]]\n",
      "\n",
      " [[10 11 12]\n",
      "  [13 14 15]\n",
      "  [16 17 18]]\n",
      "\n",
      " [[19 20 21]\n",
      "  [22 23 24]\n",
      "  [25 26 27]]]\n",
      "\n",
      "(Padding)  3d feature map=>\n",
      "[[[ 0  0  0  0  0]\n",
      "  [ 0  1  2  3  0]\n",
      "  [ 0  4  5  6  0]\n",
      "  [ 0  7  8  9  0]\n",
      "  [ 0  0  0  0  0]]\n",
      "\n",
      " [[ 0  0  0  0  0]\n",
      "  [ 0 10 11 12  0]\n",
      "  [ 0 13 14 15  0]\n",
      "  [ 0 16 17 18  0]\n",
      "  [ 0  0  0  0  0]]\n",
      "\n",
      " [[ 0  0  0  0  0]\n",
      "  [ 0 19 20 21  0]\n",
      "  [ 0 22 23 24  0]\n",
      "  [ 0 25 26 27  0]\n",
      "  [ 0  0  0  0  0]]]\n"
     ]
    }
   ],
   "source": [
    "a_3d = np.arange(1,28).reshape(3,3,3)\n",
    "print(\"(Original) 3d feature map=>\\n{0}\\n\".format(a_3d))\n",
    "\n",
    "a_3d = np.pad(array=a_3d, pad_width=((0,0),(1,1),(1,1)), mode='constant', constant_values=0)\n",
    "print(\"(Padding)  3d feature map=>\\n{0}\".format(a_3d))"
   ]
  },
  {
   "cell_type": "markdown",
   "metadata": {},
   "source": [
    "- Example for two 3-channel feature maps with **channel first** setting. "
   ]
  },
  {
   "cell_type": "code",
   "execution_count": 6,
   "metadata": {},
   "outputs": [
    {
     "name": "stdout",
     "output_type": "stream",
     "text": [
      "(Original) 3d feature map=>\n",
      "[[[[ 1  2  3]\n",
      "   [ 4  5  6]\n",
      "   [ 7  8  9]]\n",
      "\n",
      "  [[10 11 12]\n",
      "   [13 14 15]\n",
      "   [16 17 18]]\n",
      "\n",
      "  [[19 20 21]\n",
      "   [22 23 24]\n",
      "   [25 26 27]]]\n",
      "\n",
      "\n",
      " [[[28 29 30]\n",
      "   [31 32 33]\n",
      "   [34 35 36]]\n",
      "\n",
      "  [[37 38 39]\n",
      "   [40 41 42]\n",
      "   [43 44 45]]\n",
      "\n",
      "  [[46 47 48]\n",
      "   [49 50 51]\n",
      "   [52 53 54]]]]\n",
      "\n",
      "(Padding)  3d feature map=>\n",
      "[[[[ 0  0  0  0  0]\n",
      "   [ 0  1  2  3  0]\n",
      "   [ 0  4  5  6  0]\n",
      "   [ 0  7  8  9  0]\n",
      "   [ 0  0  0  0  0]]\n",
      "\n",
      "  [[ 0  0  0  0  0]\n",
      "   [ 0 10 11 12  0]\n",
      "   [ 0 13 14 15  0]\n",
      "   [ 0 16 17 18  0]\n",
      "   [ 0  0  0  0  0]]\n",
      "\n",
      "  [[ 0  0  0  0  0]\n",
      "   [ 0 19 20 21  0]\n",
      "   [ 0 22 23 24  0]\n",
      "   [ 0 25 26 27  0]\n",
      "   [ 0  0  0  0  0]]]\n",
      "\n",
      "\n",
      " [[[ 0  0  0  0  0]\n",
      "   [ 0 28 29 30  0]\n",
      "   [ 0 31 32 33  0]\n",
      "   [ 0 34 35 36  0]\n",
      "   [ 0  0  0  0  0]]\n",
      "\n",
      "  [[ 0  0  0  0  0]\n",
      "   [ 0 37 38 39  0]\n",
      "   [ 0 40 41 42  0]\n",
      "   [ 0 43 44 45  0]\n",
      "   [ 0  0  0  0  0]]\n",
      "\n",
      "  [[ 0  0  0  0  0]\n",
      "   [ 0 46 47 48  0]\n",
      "   [ 0 49 50 51  0]\n",
      "   [ 0 52 53 54  0]\n",
      "   [ 0  0  0  0  0]]]]\n"
     ]
    }
   ],
   "source": [
    "multi_a_3d = np.arange(1,55).reshape(2,3,3,3)\n",
    "print(\"(Original) 3d feature map=>\\n{0}\\n\".format(multi_a_3d))\n",
    "\n",
    "multi_a_3d = np.pad(array=multi_a_3d, pad_width=((0,0),(0,0),(1,1),(1,1)), mode='constant', constant_values=0)\n",
    "print(\"(Padding)  3d feature map=>\\n{0}\".format(multi_a_3d))"
   ]
  },
  {
   "cell_type": "markdown",
   "metadata": {},
   "source": [
    "## Channel last\n",
    "- Example for two 3-channel feature maps with **channel last** setting.\n",
    "- This example quite like the real situation, because of generally the ordering of image's channel are set with channel-last."
   ]
  },
  {
   "cell_type": "code",
   "execution_count": 8,
   "metadata": {},
   "outputs": [
    {
     "name": "stdout",
     "output_type": "stream",
     "text": [
      "(Original) 3d feature map=> Shape:(1, 3, 3, 3)\n",
      "[[[[0.2 0.2 0.2]\n",
      "   [1.  1.  1. ]\n",
      "   [0.2 0.2 0.2]]\n",
      "\n",
      "  [[0.5 0.5 0.5]\n",
      "   [1.  1.  1. ]\n",
      "   [0.5 0.5 0.5]]\n",
      "\n",
      "  [[0.8 0.8 0.8]\n",
      "   [1.  1.  1. ]\n",
      "   [0.8 0.8 0.8]]]]\n",
      "(Padding)  3d feature map=> Shape:(1, 5, 5, 3)\n",
      "[[[[0.  0.  0. ]\n",
      "   [0.  0.  0. ]\n",
      "   [0.  0.  0. ]\n",
      "   [0.  0.  0. ]\n",
      "   [0.  0.  0. ]]\n",
      "\n",
      "  [[0.  0.  0. ]\n",
      "   [0.2 0.2 0.2]\n",
      "   [1.  1.  1. ]\n",
      "   [0.2 0.2 0.2]\n",
      "   [0.  0.  0. ]]\n",
      "\n",
      "  [[0.  0.  0. ]\n",
      "   [0.5 0.5 0.5]\n",
      "   [1.  1.  1. ]\n",
      "   [0.5 0.5 0.5]\n",
      "   [0.  0.  0. ]]\n",
      "\n",
      "  [[0.  0.  0. ]\n",
      "   [0.8 0.8 0.8]\n",
      "   [1.  1.  1. ]\n",
      "   [0.8 0.8 0.8]\n",
      "   [0.  0.  0. ]]\n",
      "\n",
      "  [[0.  0.  0. ]\n",
      "   [0.  0.  0. ]\n",
      "   [0.  0.  0. ]\n",
      "   [0.  0.  0. ]\n",
      "   [0.  0.  0. ]]]]\n"
     ]
    },
    {
     "data": {
      "text/plain": [
       "<matplotlib.image.AxesImage at 0x11918c588>"
      ]
     },
     "execution_count": 8,
     "metadata": {},
     "output_type": "execute_result"
    },
    {
     "data": {
      "image/png": "[encoded data removed]",
      "text/plain": [
       "<Figure size 432x288 with 2 Axes>"
      ]
     },
     "metadata": {
      "needs_background": "light"
     },
     "output_type": "display_data"
    }
   ],
   "source": [
    "import matplotlib.pyplot as plt\n",
    "\n",
    "a_3d = np.array([[ [[0.2,0.2,0.2],[  1,  1,  1],[0.2,0.2,0.2]],\n",
    "                   [[0.5,0.5,0.5],[  1,  1,  1],[0.5,0.5,0.5]],\n",
    "                   [[0.8,0.8,0.8],[  1,  1,  1],[0.8,0.8,0.8]]]])\n",
    "print(\"(Original) 3d feature map=> Shape:{0}\".format(a_3d.shape))\n",
    "print(a_3d)\n",
    "\n",
    "fig, axarr = plt.subplots(1, 2)\n",
    "axarr[0].set_title('a_3d')\n",
    "axarr[0].imshow(a_3d[0,:,:,:])\n",
    "\n",
    "a_3d = np.pad(array=a_3d, pad_width=((0,0),(1,1),(1,1),(0,0)), mode='constant', constant_values=0)\n",
    "print(\"(Padding)  3d feature map=> Shape:{0}\".format(a_3d.shape))\n",
    "print(a_3d)\n",
    "\n",
    "axarr[1].set_title('Padded a_3d')\n",
    "axarr[1].imshow(a_3d[0,:,:,:])"
   ]
  }
 ],
 "metadata": {
  "kernelspec": {
   "display_name": "Coursera",
   "language": "python",
   "name": "coursera"
  },
  "language_info": {
   "codemirror_mode": {
    "name": "ipython",
    "version": 3
   },
   "file_extension": ".py",
   "mimetype": "text/x-python",
   "name": "python",
   "nbconvert_exporter": "python",
   "pygments_lexer": "ipython3",
   "version": "3.5.6"
  }
 },
 "nbformat": 4,
 "nbformat_minor": 2
}
