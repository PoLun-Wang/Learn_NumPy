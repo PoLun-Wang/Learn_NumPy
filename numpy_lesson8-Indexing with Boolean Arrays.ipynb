{
 "cells": [
  {
   "cell_type": "code",
   "execution_count": 1,
   "metadata": {},
   "outputs": [],
   "source": [
    "import numpy as np"
   ]
  },
  {
   "cell_type": "code",
   "execution_count": 2,
   "metadata": {},
   "outputs": [
    {
     "name": "stdout",
     "output_type": "stream",
     "text": [
      "a=>\n",
      "[[ 0  1  2  3  4]\n",
      " [ 5  6  7  8  9]\n",
      " [10 11 12 13 14]\n",
      " [15 16 17 18 19]\n",
      " [20 21 22 23 24]]\n",
      "filter=>\n",
      "[[ True  True  True  True  True]\n",
      " [ True  True  True  True  True]\n",
      " [ True  True  True  True  True]\n",
      " [ True  True  True  True  True]\n",
      " [False False False False False]]\n",
      "\n",
      "Replace numbers with zero that number is small than 20:\n",
      "a=>\n",
      "[[ 0  0  0  0  0]\n",
      " [ 0  0  0  0  0]\n",
      " [ 0  0  0  0  0]\n",
      " [ 0  0  0  0  0]\n",
      " [20 21 22 23 24]]\n"
     ]
    }
   ],
   "source": [
    "a = np.arange(25).reshape(5, 5)\n",
    "# 從矩陣a中篩選出數值小於20的index位置，並依此邏輯建立篩選器filter\n",
    "filter = a < 20\n",
    "\n",
    "print('a=>\\n{0}'.format(a))\n",
    "# 看看篩選器filter長怎樣\n",
    "print('filter=>\\n{0}'.format(filter))\n",
    "print('')\n",
    "print('Replace numbers with zero that number is small than 20:')\n",
    "# 直接將篩選器作為index數值，將篩選器數值為True對應到a矩陣位置的數值更改為0\n",
    "a[filter] = 0\n",
    "print('a=>\\n{0}'.format(a))"
   ]
  },
  {
   "cell_type": "code",
   "execution_count": 3,
   "metadata": {},
   "outputs": [
    {
     "name": "stdout",
     "output_type": "stream",
     "text": [
      "a=>\n",
      "[[ 0  1  2  3]\n",
      " [ 4  5  6  7]\n",
      " [ 8  9 10 11]]\n",
      "\n",
      "b1=>[False  True  True]\n",
      "b2=>[ True False  True False]\n",
      "\n",
      "Display rows in matrix \"a\" that are selected by array \"b1\":\n",
      "a[b1,:]=>\n",
      "[[ 4  5  6  7]\n",
      " [ 8  9 10 11]]\n",
      "\n",
      "Display columns in matrix \"a\" that are selected by array \"b2\":\n",
      "a[:,b2]=>\n",
      "[[ 0  2]\n",
      " [ 4  6]\n",
      " [ 8 10]]\n"
     ]
    }
   ],
   "source": [
    "a = np.arange(12).reshape(3,4)\n",
    "print('a=>\\n{0}'.format(a))\n",
    "\n",
    "print('')\n",
    "b1 = np.array([False,True,True])\n",
    "b2 = np.array([True,False,True,False])\n",
    "print('b1=>{0}'.format(b1))\n",
    "print('b2=>{0}'.format(b2))\n",
    "\n",
    "print('')\n",
    "print('Display rows in matrix \"a\" that are selected by array \"b1\":')\n",
    "# 使用b1作為矩陣a的row篩選器，印出b1值為True對應到a矩陣的數值\n",
    "print('a[b1,:]=>\\n{0}'.format(a[b1,:]))\n",
    "\n",
    "print('')\n",
    "print('Display columns in matrix \"a\" that are selected by array \"b2\":')\n",
    "# 使用b2作為矩陣a的column篩選器，印出b2值為True對應到a矩陣的數值\n",
    "print('a[:,b2]=>\\n{0}'.format(a[:,b2]))"
   ]
  },
  {
   "cell_type": "code",
   "execution_count": null,
   "metadata": {},
   "outputs": [],
   "source": []
  }
 ],
 "metadata": {
  "kernelspec": {
   "display_name": "Numpy Leaning(3.5)",
   "language": "python",
   "name": "numpy"
  },
  "language_info": {
   "codemirror_mode": {
    "name": "ipython",
    "version": 3
   },
   "file_extension": ".py",
   "mimetype": "text/x-python",
   "name": "python",
   "nbconvert_exporter": "python",
   "pygments_lexer": "ipython3",
   "version": "3.5.6"
  }
 },
 "nbformat": 4,
 "nbformat_minor": 2
}
